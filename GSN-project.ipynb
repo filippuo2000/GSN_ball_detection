{
  "nbformat": 4,
  "nbformat_minor": 0,
  "metadata": {
    "colab": {
      "provenance": [],
      "machine_shape": "hm",
      "gpuType": "T4"
    },
    "kernelspec": {
      "name": "python3",
      "display_name": "Python 3"
    },
    "language_info": {
      "name": "python"
    },
    "accelerator": "GPU"
  },
  "cells": [
    {
      "cell_type": "code",
      "execution_count": null,
      "metadata": {
        "id": "TPh9eyEEk9Ph"
      },
      "outputs": [],
      "source": [
        "! nvidia-smi"
      ]
    },
    {
      "cell_type": "code",
      "source": [
        "! pip install pytorch-lightning==2.1.0"
      ],
      "metadata": {
        "id": "zw01SuANnxBU"
      },
      "execution_count": null,
      "outputs": []
    },
    {
      "cell_type": "code",
      "source": [
        "! gdown 1qbDJmxONPMs94Z24uv0YiWo2B_sRtLTP"
      ],
      "metadata": {
        "colab": {
          "base_uri": "https://localhost:8080/"
        },
        "id": "lHYQ4RTroXdm",
        "outputId": "600df482-f2b1-48dc-cf30-323215faca5b"
      },
      "execution_count": 14,
      "outputs": [
        {
          "output_type": "stream",
          "name": "stdout",
          "text": [
            "Downloading...\n",
            "From (original): https://drive.google.com/uc?id=1qbDJmxONPMs94Z24uv0YiWo2B_sRtLTP\n",
            "From (redirected): https://drive.google.com/uc?id=1qbDJmxONPMs94Z24uv0YiWo2B_sRtLTP&confirm=t&uuid=712bd64e-b699-432e-91e9-70991829de3d\n",
            "To: /content/Dataset-small.zip\n",
            "100% 221M/221M [00:05<00:00, 40.9MB/s]\n"
          ]
        }
      ]
    },
    {
      "cell_type": "code",
      "source": [
        "%%shell\n",
        "mkdir Dataset-small\n",
        "unzip -q Dataset-small.zip -d Dataset-small"
      ],
      "metadata": {
        "colab": {
          "base_uri": "https://localhost:8080/"
        },
        "id": "8pFV7HqHt4J2",
        "outputId": "4ca3070a-aafb-4ea8-fb38-538b46ced851"
      },
      "execution_count": 20,
      "outputs": [
        {
          "output_type": "execute_result",
          "data": {
            "text/plain": []
          },
          "metadata": {},
          "execution_count": 20
        }
      ]
    },
    {
      "cell_type": "code",
      "source": [
        "from TrackNet import TrackNet\n",
        "from TrackNetClassifier import TrackNetClassifier\n",
        "from TrackNetDataModule import TrackNetDataModule\n",
        "\n",
        "import pytorch_lightning as pl"
      ],
      "metadata": {
        "id": "yH9kSUAMuxmO"
      },
      "execution_count": null,
      "outputs": []
    },
    {
      "cell_type": "code",
      "source": [
        "model = TrackNet()\n",
        "classifier = TrackNetClassifier(model)\n",
        "dm = TrackNetDataModule()\n",
        "dm.prepare_data()\n",
        "dm.setup()\n",
        "\n",
        "trainer = pl.Trainer(num_sanity_val_steps=0)\n",
        "trainer.fit(model=classifier, datamodule=dm)"
      ],
      "metadata": {
        "id": "seteX7LVnz_v"
      },
      "execution_count": null,
      "outputs": []
    }
  ]
}